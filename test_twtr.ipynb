{
 "cells": [
  {
   "cell_type": "code",
   "execution_count": 61,
   "metadata": {},
   "outputs": [],
   "source": [
    "CONSUMER_KEY         = 'yTmAkvZz8EaTnm3jZ6XBIWapY'\n",
    "CONSUMER_SECRET      = 'Vh8dY3AuxrDpx4XmBPTg8wEnTcp9hBPJ53RjLp3xxusJgXZR0n'\n",
    "ACCESS_TOKEN     = '1636335031-mKwzh4tdMMQOIi723UXxM0Sn8jJJwdrJ2MQjiCD'\n",
    "ACCESS_TOKEN_SECRET  = 'ht9YnZ2WsZpVEIfC8LX9iOnogk8rtAst4OEy7CP8PtFwi' "
   ]
  },
  {
   "cell_type": "code",
   "execution_count": 73,
   "metadata": {},
   "outputs": [],
   "source": [
    "import twitter"
   ]
  },
  {
   "cell_type": "code",
   "execution_count": 171,
   "metadata": {},
   "outputs": [],
   "source": [
    "twitter_api = twitter.Api(CONSUMER_KEY, CONSUMER_SECRET,ACCESS_TOKEN, ACCESS_TOKEN_SECRET, tweet_mode='extended')"
   ]
  },
  {
   "cell_type": "code",
   "execution_count": 176,
   "metadata": {},
   "outputs": [
    {
     "name": "stdout",
     "output_type": "stream",
     "text": [
      "Gerard Butler and Morgan Freeman's #AngelHasFallen leads the Labor Day box office. https://t.co/Y76SgMwGX2\n",
      "\n",
      "mannnn Gerard James Butler just gets finer and finerrrr. 🔥🔥🔥 #AngelHasFallen https://t.co/Spb29mohKv\n",
      "\n",
      "#AngelHasFallen  Top 2  movie of the Year 💪🏿💪🏿 https://t.co/l8tB6xL6ts\n",
      "\n",
      "We’re ready!  #AngelHasFallen https://t.co/WcSAfBdD9a\n",
      "\n",
      "#AngelHasFallen IT WAS SOOOO GOOODDDDDD!!!!\n",
      "\n",
      "#AngelHasFallen 📽\n",
      "\n"
     ]
    }
   ],
   "source": [
    "from twitter import *\n",
    "search_text='#AngelHasFallen'\n",
    "since_id = None\n",
    "result = twitter_api.GetSearch(term=search_text, count=100, return_json=True, since_id=since_id)\n",
    "tweets = result['statuses']\n",
    "\n",
    "for tweet in tweets:\n",
    "    parsed_tweet = twitter.parse_tweet.ParseTweet(tweet['user']['screen_name'],json.dumps(tweet))    \n",
    "    if len(parsed_tweet.Hashtags) == 1:\n",
    "        if not parsed_tweet.UserHandles:            \n",
    "                print(tweet['full_text'] + \"\\n\")       "
   ]
  },
  {
   "cell_type": "code",
   "execution_count": 167,
   "metadata": {},
   "outputs": [],
   "source": [
    "from twitter import *\n",
    "\n",
    "def search(search_text):\n",
    "    since_id = None\n",
    "    tweets = []\n",
    "    while True:\n",
    "        result = twitter_api.GetSearch(term=search_text, count=100, return_json=True, since_id=since_id)\n",
    "        \n",
    "        if not result['statuses']:\n",
    "            # no more results\n",
    "            break\n",
    "\n",
    "        since_id = result['search_metadata']['max_id']\n",
    "        tweets = result['statuses']        \n",
    "        #print(since_id)\n",
    "\n",
    "#         if STREAM_MODE_ENABLED:\n",
    "#             checkpoint.update(since_id)\n",
    "\n",
    "    return tweets"
   ]
  },
  {
   "cell_type": "code",
   "execution_count": 173,
   "metadata": {},
   "outputs": [],
   "source": [
    "since_id = None\n",
    "search_text='#saaho'\n",
    "tweets = search(search_text)\n",
    "for tweet in tweets:\n",
    "    parsed_tweet = twitter.parse_tweet.ParseTweet(tweet['user']['screen_name'],json.dumps(tweet))    \n",
    "    \n",
    "    "
   ]
  },
  {
   "cell_type": "code",
   "execution_count": 190,
   "metadata": {},
   "outputs": [
    {
     "name": "stdout",
     "output_type": "stream",
     "text": [
      "stackoverflow\n"
     ]
    }
   ],
   "source": [
    "tags=\"Hey guys! #stackoverflow really rocks rocks announcement\"\n",
    "hashtag=''\n",
    "for tag in tags.split(): \n",
    "    if tag.startswith(\"#\"):\n",
    "        hashtag = tag.strip(\"#\")\n",
    "        print(hashtag)"
   ]
  }
 ],
 "metadata": {
  "kernelspec": {
   "display_name": "Python 3",
   "language": "python",
   "name": "python3"
  },
  "language_info": {
   "codemirror_mode": {
    "name": "ipython",
    "version": 3
   },
   "file_extension": ".py",
   "mimetype": "text/x-python",
   "name": "python",
   "nbconvert_exporter": "python",
   "pygments_lexer": "ipython3",
   "version": "3.7.3"
  }
 },
 "nbformat": 4,
 "nbformat_minor": 2
}
