{
 "cells": [
  {
   "cell_type": "code",
   "execution_count": 61,
   "metadata": {},
   "outputs": [],
   "source": [
    "CONSUMER_KEY         = 'yTmAkvZz8EaTnm3jZ6XBIWapY'\n",
    "CONSUMER_SECRET      = 'Vh8dY3AuxrDpx4XmBPTg8wEnTcp9hBPJ53RjLp3xxusJgXZR0n'\n",
    "ACCESS_TOKEN     = '1636335031-mKwzh4tdMMQOIi723UXxM0Sn8jJJwdrJ2MQjiCD'\n",
    "ACCESS_TOKEN_SECRET  = 'ht9YnZ2WsZpVEIfC8LX9iOnogk8rtAst4OEy7CP8PtFwi' "
   ]
  },
  {
   "cell_type": "code",
   "execution_count": 73,
   "metadata": {},
   "outputs": [],
   "source": [
    "import twitter"
   ]
  },
  {
   "cell_type": "code",
   "execution_count": 74,
   "metadata": {},
   "outputs": [],
   "source": [
    "twitter_api = twitter.Api(CONSUMER_KEY, CONSUMER_SECRET,ACCESS_TOKEN, ACCESS_TOKEN_SECRET)"
   ]
  },
  {
   "cell_type": "code",
   "execution_count": 150,
   "metadata": {},
   "outputs": [
    {
     "name": "stdout",
     "output_type": "stream",
     "text": [
      "Nope just finish watching #saaho https://t.co/UIG2vsiioT\n",
      "\n",
      "Even the background song is a hint about the story; ‘hit u like a force whn u draw near, u won’t c me coming. Bangbang I’m in motion. The hunt is on, true aim is clear, my prey’ll be coming, bang bang I’m in motion. The hunt is on, the noose is clear, u won’t c it coming..#saaho https://t.co/A758cXERdn\n",
      "\n",
      "#Saaho (Hindi) had second best Monday of 2019. Added ~15 cr to its total https://t.co/LdzMiHafa4\n",
      "\n",
      "It makes complete sense tht Prabhas would choose to do a movie like #Saaho. He’s an intelligent man &amp; I guarantee he completely understood the script the 1st time he heard it. Our Darling is a once in a lifetime man with a once in a lifetime brain. You’re the best Prabhas Love 😘 https://t.co/hAONVrGEjr\n",
      "\n"
     ]
    }
   ],
   "source": [
    "from twitter import *\n",
    "search_text='#saaho'\n",
    "since_id = None\n",
    "result = twitter_api.GetSearch(term=search_text, count=100, return_json=True, since_id=since_id)\n",
    "tweets = result['statuses']\n",
    "\n",
    "for tweet in tweets:\n",
    "    parsed_tweet = twitter.parse_tweet.ParseTweet(tweet['user']['screen_name'],json.dumps(tweet))    \n",
    "    \n",
    "    if len(parsed_tweet.Hashtags) == 1:\n",
    "        if not parsed_tweet.UserHandles:            \n",
    "                print(tweet['full_text'] + \"\\n\")   \n",
    "    "
   ]
  },
  {
   "cell_type": "code",
   "execution_count": 29,
   "metadata": {},
   "outputs": [
    {
     "name": "stdout",
     "output_type": "stream",
     "text": [
      "0\n",
      "50\n"
     ]
    }
   ],
   "source": []
  },
  {
   "cell_type": "code",
   "execution_count": 31,
   "metadata": {},
   "outputs": [
    {
     "data": {
      "text/plain": [
       "50"
      ]
     },
     "execution_count": 31,
     "metadata": {},
     "output_type": "execute_result"
    }
   ],
   "source": []
  },
  {
   "cell_type": "code",
   "execution_count": null,
   "metadata": {},
   "outputs": [],
   "source": []
  }
 ],
 "metadata": {
  "kernelspec": {
   "display_name": "Python 3",
   "language": "python",
   "name": "python3"
  },
  "language_info": {
   "codemirror_mode": {
    "name": "ipython",
    "version": 3
   },
   "file_extension": ".py",
   "mimetype": "text/x-python",
   "name": "python",
   "nbconvert_exporter": "python",
   "pygments_lexer": "ipython3",
   "version": "3.7.3"
  }
 },
 "nbformat": 4,
 "nbformat_minor": 2
}
